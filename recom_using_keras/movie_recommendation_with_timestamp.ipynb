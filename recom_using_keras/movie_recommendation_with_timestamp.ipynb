{
  "cells": [
    {
      "cell_type": "code",
      "execution_count": null,
      "metadata": {
        "id": "A3N8wEmg_-Yr"
      },
      "outputs": [],
      "source": [
        "!pip install tensorflow_recommenders"
      ]
    },
    {
      "cell_type": "code",
      "execution_count": 9,
      "metadata": {
        "id": "hNla4qRFAEGx"
      },
      "outputs": [],
      "source": [
        "from typing import Dict, Text\n",
        "import pandas as pd\n",
        "import numpy as np\n",
        "import tensorflow as tf\n",
        "import tensorflow_datasets as tfds\n",
        "import tensorflow_recommenders as tfrs"
      ]
    },
    {
      "cell_type": "code",
      "execution_count": 10,
      "metadata": {
        "id": "ffEuqk1sALe2"
      },
      "outputs": [],
      "source": [
        "movies_df = pd.read_csv(\"/content/movies.csv\")\n",
        "ratings_df = pd.read_csv(\"/content/ratings.csv\", dtype={\"userId\":str})"
      ]
    },
    {
      "cell_type": "code",
      "source": [
        "ratings_df.info()"
      ],
      "metadata": {
        "colab": {
          "base_uri": "https://localhost:8080/"
        },
        "id": "emPtJi8blfpe",
        "outputId": "a71bfa02-e7b1-454b-db10-6fb7d1127220"
      },
      "execution_count": 11,
      "outputs": [
        {
          "output_type": "stream",
          "name": "stdout",
          "text": [
            "<class 'pandas.core.frame.DataFrame'>\n",
            "RangeIndex: 100836 entries, 0 to 100835\n",
            "Data columns (total 4 columns):\n",
            " #   Column     Non-Null Count   Dtype  \n",
            "---  ------     --------------   -----  \n",
            " 0   userId     100836 non-null  object \n",
            " 1   movieId    100836 non-null  int64  \n",
            " 2   rating     100836 non-null  float64\n",
            " 3   timestamp  100836 non-null  int64  \n",
            "dtypes: float64(1), int64(2), object(1)\n",
            "memory usage: 3.1+ MB\n"
          ]
        }
      ]
    },
    {
      "cell_type": "code",
      "execution_count": 4,
      "metadata": {
        "colab": {
          "base_uri": "https://localhost:8080/",
          "height": 206
        },
        "id": "-Zm_i8hqApOn",
        "outputId": "402eba51-e03b-467a-bdf1-837aa910687b"
      },
      "outputs": [
        {
          "output_type": "execute_result",
          "data": {
            "text/plain": [
              "   movieId                               title  \\\n",
              "0        1                    Toy Story (1995)   \n",
              "1        2                      Jumanji (1995)   \n",
              "2        3             Grumpier Old Men (1995)   \n",
              "3        4            Waiting to Exhale (1995)   \n",
              "4        5  Father of the Bride Part II (1995)   \n",
              "\n",
              "                                        genres  \n",
              "0  Adventure|Animation|Children|Comedy|Fantasy  \n",
              "1                   Adventure|Children|Fantasy  \n",
              "2                               Comedy|Romance  \n",
              "3                         Comedy|Drama|Romance  \n",
              "4                                       Comedy  "
            ],
            "text/html": [
              "\n",
              "  <div id=\"df-9b7e28dc-1b0d-4086-8630-a6b515f67b16\">\n",
              "    <div class=\"colab-df-container\">\n",
              "      <div>\n",
              "<style scoped>\n",
              "    .dataframe tbody tr th:only-of-type {\n",
              "        vertical-align: middle;\n",
              "    }\n",
              "\n",
              "    .dataframe tbody tr th {\n",
              "        vertical-align: top;\n",
              "    }\n",
              "\n",
              "    .dataframe thead th {\n",
              "        text-align: right;\n",
              "    }\n",
              "</style>\n",
              "<table border=\"1\" class=\"dataframe\">\n",
              "  <thead>\n",
              "    <tr style=\"text-align: right;\">\n",
              "      <th></th>\n",
              "      <th>movieId</th>\n",
              "      <th>title</th>\n",
              "      <th>genres</th>\n",
              "    </tr>\n",
              "  </thead>\n",
              "  <tbody>\n",
              "    <tr>\n",
              "      <th>0</th>\n",
              "      <td>1</td>\n",
              "      <td>Toy Story (1995)</td>\n",
              "      <td>Adventure|Animation|Children|Comedy|Fantasy</td>\n",
              "    </tr>\n",
              "    <tr>\n",
              "      <th>1</th>\n",
              "      <td>2</td>\n",
              "      <td>Jumanji (1995)</td>\n",
              "      <td>Adventure|Children|Fantasy</td>\n",
              "    </tr>\n",
              "    <tr>\n",
              "      <th>2</th>\n",
              "      <td>3</td>\n",
              "      <td>Grumpier Old Men (1995)</td>\n",
              "      <td>Comedy|Romance</td>\n",
              "    </tr>\n",
              "    <tr>\n",
              "      <th>3</th>\n",
              "      <td>4</td>\n",
              "      <td>Waiting to Exhale (1995)</td>\n",
              "      <td>Comedy|Drama|Romance</td>\n",
              "    </tr>\n",
              "    <tr>\n",
              "      <th>4</th>\n",
              "      <td>5</td>\n",
              "      <td>Father of the Bride Part II (1995)</td>\n",
              "      <td>Comedy</td>\n",
              "    </tr>\n",
              "  </tbody>\n",
              "</table>\n",
              "</div>\n",
              "      <button class=\"colab-df-convert\" onclick=\"convertToInteractive('df-9b7e28dc-1b0d-4086-8630-a6b515f67b16')\"\n",
              "              title=\"Convert this dataframe to an interactive table.\"\n",
              "              style=\"display:none;\">\n",
              "        \n",
              "  <svg xmlns=\"http://www.w3.org/2000/svg\" height=\"24px\"viewBox=\"0 0 24 24\"\n",
              "       width=\"24px\">\n",
              "    <path d=\"M0 0h24v24H0V0z\" fill=\"none\"/>\n",
              "    <path d=\"M18.56 5.44l.94 2.06.94-2.06 2.06-.94-2.06-.94-.94-2.06-.94 2.06-2.06.94zm-11 1L8.5 8.5l.94-2.06 2.06-.94-2.06-.94L8.5 2.5l-.94 2.06-2.06.94zm10 10l.94 2.06.94-2.06 2.06-.94-2.06-.94-.94-2.06-.94 2.06-2.06.94z\"/><path d=\"M17.41 7.96l-1.37-1.37c-.4-.4-.92-.59-1.43-.59-.52 0-1.04.2-1.43.59L10.3 9.45l-7.72 7.72c-.78.78-.78 2.05 0 2.83L4 21.41c.39.39.9.59 1.41.59.51 0 1.02-.2 1.41-.59l7.78-7.78 2.81-2.81c.8-.78.8-2.07 0-2.86zM5.41 20L4 18.59l7.72-7.72 1.47 1.35L5.41 20z\"/>\n",
              "  </svg>\n",
              "      </button>\n",
              "      \n",
              "  <style>\n",
              "    .colab-df-container {\n",
              "      display:flex;\n",
              "      flex-wrap:wrap;\n",
              "      gap: 12px;\n",
              "    }\n",
              "\n",
              "    .colab-df-convert {\n",
              "      background-color: #E8F0FE;\n",
              "      border: none;\n",
              "      border-radius: 50%;\n",
              "      cursor: pointer;\n",
              "      display: none;\n",
              "      fill: #1967D2;\n",
              "      height: 32px;\n",
              "      padding: 0 0 0 0;\n",
              "      width: 32px;\n",
              "    }\n",
              "\n",
              "    .colab-df-convert:hover {\n",
              "      background-color: #E2EBFA;\n",
              "      box-shadow: 0px 1px 2px rgba(60, 64, 67, 0.3), 0px 1px 3px 1px rgba(60, 64, 67, 0.15);\n",
              "      fill: #174EA6;\n",
              "    }\n",
              "\n",
              "    [theme=dark] .colab-df-convert {\n",
              "      background-color: #3B4455;\n",
              "      fill: #D2E3FC;\n",
              "    }\n",
              "\n",
              "    [theme=dark] .colab-df-convert:hover {\n",
              "      background-color: #434B5C;\n",
              "      box-shadow: 0px 1px 3px 1px rgba(0, 0, 0, 0.15);\n",
              "      filter: drop-shadow(0px 1px 2px rgba(0, 0, 0, 0.3));\n",
              "      fill: #FFFFFF;\n",
              "    }\n",
              "  </style>\n",
              "\n",
              "      <script>\n",
              "        const buttonEl =\n",
              "          document.querySelector('#df-9b7e28dc-1b0d-4086-8630-a6b515f67b16 button.colab-df-convert');\n",
              "        buttonEl.style.display =\n",
              "          google.colab.kernel.accessAllowed ? 'block' : 'none';\n",
              "\n",
              "        async function convertToInteractive(key) {\n",
              "          const element = document.querySelector('#df-9b7e28dc-1b0d-4086-8630-a6b515f67b16');\n",
              "          const dataTable =\n",
              "            await google.colab.kernel.invokeFunction('convertToInteractive',\n",
              "                                                     [key], {});\n",
              "          if (!dataTable) return;\n",
              "\n",
              "          const docLinkHtml = 'Like what you see? Visit the ' +\n",
              "            '<a target=\"_blank\" href=https://colab.research.google.com/notebooks/data_table.ipynb>data table notebook</a>'\n",
              "            + ' to learn more about interactive tables.';\n",
              "          element.innerHTML = '';\n",
              "          dataTable['output_type'] = 'display_data';\n",
              "          await google.colab.output.renderOutput(dataTable, element);\n",
              "          const docLink = document.createElement('div');\n",
              "          docLink.innerHTML = docLinkHtml;\n",
              "          element.appendChild(docLink);\n",
              "        }\n",
              "      </script>\n",
              "    </div>\n",
              "  </div>\n",
              "  "
            ]
          },
          "metadata": {},
          "execution_count": 4
        }
      ],
      "source": [
        "movies_df.head()"
      ]
    },
    {
      "cell_type": "code",
      "execution_count": 5,
      "metadata": {
        "colab": {
          "base_uri": "https://localhost:8080/",
          "height": 206
        },
        "id": "txCjB4j7As84",
        "outputId": "e0cd216d-e251-4eff-eb7d-6698e02ad9ff"
      },
      "outputs": [
        {
          "output_type": "execute_result",
          "data": {
            "text/plain": [
              "  userId  movieId  rating  timestamp\n",
              "0      1        1     4.0  964982703\n",
              "1      1        3     4.0  964981247\n",
              "2      1        6     4.0  964982224\n",
              "3      1       47     5.0  964983815\n",
              "4      1       50     5.0  964982931"
            ],
            "text/html": [
              "\n",
              "  <div id=\"df-3e270a40-d787-4129-8f97-f48f55a9a0fd\">\n",
              "    <div class=\"colab-df-container\">\n",
              "      <div>\n",
              "<style scoped>\n",
              "    .dataframe tbody tr th:only-of-type {\n",
              "        vertical-align: middle;\n",
              "    }\n",
              "\n",
              "    .dataframe tbody tr th {\n",
              "        vertical-align: top;\n",
              "    }\n",
              "\n",
              "    .dataframe thead th {\n",
              "        text-align: right;\n",
              "    }\n",
              "</style>\n",
              "<table border=\"1\" class=\"dataframe\">\n",
              "  <thead>\n",
              "    <tr style=\"text-align: right;\">\n",
              "      <th></th>\n",
              "      <th>userId</th>\n",
              "      <th>movieId</th>\n",
              "      <th>rating</th>\n",
              "      <th>timestamp</th>\n",
              "    </tr>\n",
              "  </thead>\n",
              "  <tbody>\n",
              "    <tr>\n",
              "      <th>0</th>\n",
              "      <td>1</td>\n",
              "      <td>1</td>\n",
              "      <td>4.0</td>\n",
              "      <td>964982703</td>\n",
              "    </tr>\n",
              "    <tr>\n",
              "      <th>1</th>\n",
              "      <td>1</td>\n",
              "      <td>3</td>\n",
              "      <td>4.0</td>\n",
              "      <td>964981247</td>\n",
              "    </tr>\n",
              "    <tr>\n",
              "      <th>2</th>\n",
              "      <td>1</td>\n",
              "      <td>6</td>\n",
              "      <td>4.0</td>\n",
              "      <td>964982224</td>\n",
              "    </tr>\n",
              "    <tr>\n",
              "      <th>3</th>\n",
              "      <td>1</td>\n",
              "      <td>47</td>\n",
              "      <td>5.0</td>\n",
              "      <td>964983815</td>\n",
              "    </tr>\n",
              "    <tr>\n",
              "      <th>4</th>\n",
              "      <td>1</td>\n",
              "      <td>50</td>\n",
              "      <td>5.0</td>\n",
              "      <td>964982931</td>\n",
              "    </tr>\n",
              "  </tbody>\n",
              "</table>\n",
              "</div>\n",
              "      <button class=\"colab-df-convert\" onclick=\"convertToInteractive('df-3e270a40-d787-4129-8f97-f48f55a9a0fd')\"\n",
              "              title=\"Convert this dataframe to an interactive table.\"\n",
              "              style=\"display:none;\">\n",
              "        \n",
              "  <svg xmlns=\"http://www.w3.org/2000/svg\" height=\"24px\"viewBox=\"0 0 24 24\"\n",
              "       width=\"24px\">\n",
              "    <path d=\"M0 0h24v24H0V0z\" fill=\"none\"/>\n",
              "    <path d=\"M18.56 5.44l.94 2.06.94-2.06 2.06-.94-2.06-.94-.94-2.06-.94 2.06-2.06.94zm-11 1L8.5 8.5l.94-2.06 2.06-.94-2.06-.94L8.5 2.5l-.94 2.06-2.06.94zm10 10l.94 2.06.94-2.06 2.06-.94-2.06-.94-.94-2.06-.94 2.06-2.06.94z\"/><path d=\"M17.41 7.96l-1.37-1.37c-.4-.4-.92-.59-1.43-.59-.52 0-1.04.2-1.43.59L10.3 9.45l-7.72 7.72c-.78.78-.78 2.05 0 2.83L4 21.41c.39.39.9.59 1.41.59.51 0 1.02-.2 1.41-.59l7.78-7.78 2.81-2.81c.8-.78.8-2.07 0-2.86zM5.41 20L4 18.59l7.72-7.72 1.47 1.35L5.41 20z\"/>\n",
              "  </svg>\n",
              "      </button>\n",
              "      \n",
              "  <style>\n",
              "    .colab-df-container {\n",
              "      display:flex;\n",
              "      flex-wrap:wrap;\n",
              "      gap: 12px;\n",
              "    }\n",
              "\n",
              "    .colab-df-convert {\n",
              "      background-color: #E8F0FE;\n",
              "      border: none;\n",
              "      border-radius: 50%;\n",
              "      cursor: pointer;\n",
              "      display: none;\n",
              "      fill: #1967D2;\n",
              "      height: 32px;\n",
              "      padding: 0 0 0 0;\n",
              "      width: 32px;\n",
              "    }\n",
              "\n",
              "    .colab-df-convert:hover {\n",
              "      background-color: #E2EBFA;\n",
              "      box-shadow: 0px 1px 2px rgba(60, 64, 67, 0.3), 0px 1px 3px 1px rgba(60, 64, 67, 0.15);\n",
              "      fill: #174EA6;\n",
              "    }\n",
              "\n",
              "    [theme=dark] .colab-df-convert {\n",
              "      background-color: #3B4455;\n",
              "      fill: #D2E3FC;\n",
              "    }\n",
              "\n",
              "    [theme=dark] .colab-df-convert:hover {\n",
              "      background-color: #434B5C;\n",
              "      box-shadow: 0px 1px 3px 1px rgba(0, 0, 0, 0.15);\n",
              "      filter: drop-shadow(0px 1px 2px rgba(0, 0, 0, 0.3));\n",
              "      fill: #FFFFFF;\n",
              "    }\n",
              "  </style>\n",
              "\n",
              "      <script>\n",
              "        const buttonEl =\n",
              "          document.querySelector('#df-3e270a40-d787-4129-8f97-f48f55a9a0fd button.colab-df-convert');\n",
              "        buttonEl.style.display =\n",
              "          google.colab.kernel.accessAllowed ? 'block' : 'none';\n",
              "\n",
              "        async function convertToInteractive(key) {\n",
              "          const element = document.querySelector('#df-3e270a40-d787-4129-8f97-f48f55a9a0fd');\n",
              "          const dataTable =\n",
              "            await google.colab.kernel.invokeFunction('convertToInteractive',\n",
              "                                                     [key], {});\n",
              "          if (!dataTable) return;\n",
              "\n",
              "          const docLinkHtml = 'Like what you see? Visit the ' +\n",
              "            '<a target=\"_blank\" href=https://colab.research.google.com/notebooks/data_table.ipynb>data table notebook</a>'\n",
              "            + ' to learn more about interactive tables.';\n",
              "          element.innerHTML = '';\n",
              "          dataTable['output_type'] = 'display_data';\n",
              "          await google.colab.output.renderOutput(dataTable, element);\n",
              "          const docLink = document.createElement('div');\n",
              "          docLink.innerHTML = docLinkHtml;\n",
              "          element.appendChild(docLink);\n",
              "        }\n",
              "      </script>\n",
              "    </div>\n",
              "  </div>\n",
              "  "
            ]
          },
          "metadata": {},
          "execution_count": 5
        }
      ],
      "source": [
        "ratings_df.head()"
      ]
    },
    {
      "cell_type": "code",
      "execution_count": 12,
      "metadata": {
        "colab": {
          "base_uri": "https://localhost:8080/",
          "height": 206
        },
        "id": "BTyBEoykAuZk",
        "outputId": "0fc497b8-fef7-42b4-9840-7675d42b4291"
      },
      "outputs": [
        {
          "output_type": "execute_result",
          "data": {
            "text/plain": [
              "  userId  movieId  rating  timestamp                        title  \\\n",
              "0      1        1     4.0  964982703             Toy Story (1995)   \n",
              "1      1        3     4.0  964981247      Grumpier Old Men (1995)   \n",
              "2      1        6     4.0  964982224                  Heat (1995)   \n",
              "3      1       47     5.0  964983815  Seven (a.k.a. Se7en) (1995)   \n",
              "4      1       50     5.0  964982931   Usual Suspects, The (1995)   \n",
              "\n",
              "                                        genres  \n",
              "0  Adventure|Animation|Children|Comedy|Fantasy  \n",
              "1                               Comedy|Romance  \n",
              "2                        Action|Crime|Thriller  \n",
              "3                             Mystery|Thriller  \n",
              "4                       Crime|Mystery|Thriller  "
            ],
            "text/html": [
              "\n",
              "  <div id=\"df-9d28a951-ff41-4f5f-ad02-8ec68aa6f254\">\n",
              "    <div class=\"colab-df-container\">\n",
              "      <div>\n",
              "<style scoped>\n",
              "    .dataframe tbody tr th:only-of-type {\n",
              "        vertical-align: middle;\n",
              "    }\n",
              "\n",
              "    .dataframe tbody tr th {\n",
              "        vertical-align: top;\n",
              "    }\n",
              "\n",
              "    .dataframe thead th {\n",
              "        text-align: right;\n",
              "    }\n",
              "</style>\n",
              "<table border=\"1\" class=\"dataframe\">\n",
              "  <thead>\n",
              "    <tr style=\"text-align: right;\">\n",
              "      <th></th>\n",
              "      <th>userId</th>\n",
              "      <th>movieId</th>\n",
              "      <th>rating</th>\n",
              "      <th>timestamp</th>\n",
              "      <th>title</th>\n",
              "      <th>genres</th>\n",
              "    </tr>\n",
              "  </thead>\n",
              "  <tbody>\n",
              "    <tr>\n",
              "      <th>0</th>\n",
              "      <td>1</td>\n",
              "      <td>1</td>\n",
              "      <td>4.0</td>\n",
              "      <td>964982703</td>\n",
              "      <td>Toy Story (1995)</td>\n",
              "      <td>Adventure|Animation|Children|Comedy|Fantasy</td>\n",
              "    </tr>\n",
              "    <tr>\n",
              "      <th>1</th>\n",
              "      <td>1</td>\n",
              "      <td>3</td>\n",
              "      <td>4.0</td>\n",
              "      <td>964981247</td>\n",
              "      <td>Grumpier Old Men (1995)</td>\n",
              "      <td>Comedy|Romance</td>\n",
              "    </tr>\n",
              "    <tr>\n",
              "      <th>2</th>\n",
              "      <td>1</td>\n",
              "      <td>6</td>\n",
              "      <td>4.0</td>\n",
              "      <td>964982224</td>\n",
              "      <td>Heat (1995)</td>\n",
              "      <td>Action|Crime|Thriller</td>\n",
              "    </tr>\n",
              "    <tr>\n",
              "      <th>3</th>\n",
              "      <td>1</td>\n",
              "      <td>47</td>\n",
              "      <td>5.0</td>\n",
              "      <td>964983815</td>\n",
              "      <td>Seven (a.k.a. Se7en) (1995)</td>\n",
              "      <td>Mystery|Thriller</td>\n",
              "    </tr>\n",
              "    <tr>\n",
              "      <th>4</th>\n",
              "      <td>1</td>\n",
              "      <td>50</td>\n",
              "      <td>5.0</td>\n",
              "      <td>964982931</td>\n",
              "      <td>Usual Suspects, The (1995)</td>\n",
              "      <td>Crime|Mystery|Thriller</td>\n",
              "    </tr>\n",
              "  </tbody>\n",
              "</table>\n",
              "</div>\n",
              "      <button class=\"colab-df-convert\" onclick=\"convertToInteractive('df-9d28a951-ff41-4f5f-ad02-8ec68aa6f254')\"\n",
              "              title=\"Convert this dataframe to an interactive table.\"\n",
              "              style=\"display:none;\">\n",
              "        \n",
              "  <svg xmlns=\"http://www.w3.org/2000/svg\" height=\"24px\"viewBox=\"0 0 24 24\"\n",
              "       width=\"24px\">\n",
              "    <path d=\"M0 0h24v24H0V0z\" fill=\"none\"/>\n",
              "    <path d=\"M18.56 5.44l.94 2.06.94-2.06 2.06-.94-2.06-.94-.94-2.06-.94 2.06-2.06.94zm-11 1L8.5 8.5l.94-2.06 2.06-.94-2.06-.94L8.5 2.5l-.94 2.06-2.06.94zm10 10l.94 2.06.94-2.06 2.06-.94-2.06-.94-.94-2.06-.94 2.06-2.06.94z\"/><path d=\"M17.41 7.96l-1.37-1.37c-.4-.4-.92-.59-1.43-.59-.52 0-1.04.2-1.43.59L10.3 9.45l-7.72 7.72c-.78.78-.78 2.05 0 2.83L4 21.41c.39.39.9.59 1.41.59.51 0 1.02-.2 1.41-.59l7.78-7.78 2.81-2.81c.8-.78.8-2.07 0-2.86zM5.41 20L4 18.59l7.72-7.72 1.47 1.35L5.41 20z\"/>\n",
              "  </svg>\n",
              "      </button>\n",
              "      \n",
              "  <style>\n",
              "    .colab-df-container {\n",
              "      display:flex;\n",
              "      flex-wrap:wrap;\n",
              "      gap: 12px;\n",
              "    }\n",
              "\n",
              "    .colab-df-convert {\n",
              "      background-color: #E8F0FE;\n",
              "      border: none;\n",
              "      border-radius: 50%;\n",
              "      cursor: pointer;\n",
              "      display: none;\n",
              "      fill: #1967D2;\n",
              "      height: 32px;\n",
              "      padding: 0 0 0 0;\n",
              "      width: 32px;\n",
              "    }\n",
              "\n",
              "    .colab-df-convert:hover {\n",
              "      background-color: #E2EBFA;\n",
              "      box-shadow: 0px 1px 2px rgba(60, 64, 67, 0.3), 0px 1px 3px 1px rgba(60, 64, 67, 0.15);\n",
              "      fill: #174EA6;\n",
              "    }\n",
              "\n",
              "    [theme=dark] .colab-df-convert {\n",
              "      background-color: #3B4455;\n",
              "      fill: #D2E3FC;\n",
              "    }\n",
              "\n",
              "    [theme=dark] .colab-df-convert:hover {\n",
              "      background-color: #434B5C;\n",
              "      box-shadow: 0px 1px 3px 1px rgba(0, 0, 0, 0.15);\n",
              "      filter: drop-shadow(0px 1px 2px rgba(0, 0, 0, 0.3));\n",
              "      fill: #FFFFFF;\n",
              "    }\n",
              "  </style>\n",
              "\n",
              "      <script>\n",
              "        const buttonEl =\n",
              "          document.querySelector('#df-9d28a951-ff41-4f5f-ad02-8ec68aa6f254 button.colab-df-convert');\n",
              "        buttonEl.style.display =\n",
              "          google.colab.kernel.accessAllowed ? 'block' : 'none';\n",
              "\n",
              "        async function convertToInteractive(key) {\n",
              "          const element = document.querySelector('#df-9d28a951-ff41-4f5f-ad02-8ec68aa6f254');\n",
              "          const dataTable =\n",
              "            await google.colab.kernel.invokeFunction('convertToInteractive',\n",
              "                                                     [key], {});\n",
              "          if (!dataTable) return;\n",
              "\n",
              "          const docLinkHtml = 'Like what you see? Visit the ' +\n",
              "            '<a target=\"_blank\" href=https://colab.research.google.com/notebooks/data_table.ipynb>data table notebook</a>'\n",
              "            + ' to learn more about interactive tables.';\n",
              "          element.innerHTML = '';\n",
              "          dataTable['output_type'] = 'display_data';\n",
              "          await google.colab.output.renderOutput(dataTable, element);\n",
              "          const docLink = document.createElement('div');\n",
              "          docLink.innerHTML = docLinkHtml;\n",
              "          element.appendChild(docLink);\n",
              "        }\n",
              "      </script>\n",
              "    </div>\n",
              "  </div>\n",
              "  "
            ]
          },
          "metadata": {},
          "execution_count": 12
        }
      ],
      "source": [
        "merge_df = ratings_df.merge(movies_df, on=\"movieId\", how=\"left\")\n",
        "merge_df.head()"
      ]
    },
    {
      "cell_type": "markdown",
      "metadata": {
        "id": "0NLoYNr6BRQh"
      },
      "source": [
        "### Selecting the required parameters for our model: \n",
        "- For the user we are considering the userId and timestamp for clustering\n",
        "- For the movie we are considering the movie title and the context of the title"
      ]
    },
    {
      "cell_type": "markdown",
      "metadata": {
        "id": "Gkv6wxBTCpF7"
      },
      "source": [
        "## Creating query model for user data pre-processing"
      ]
    },
    {
      "cell_type": "code",
      "execution_count": 13,
      "metadata": {
        "id": "Ql5VNPARA7HT"
      },
      "outputs": [],
      "source": [
        "class UserModel(tf.keras.Model):\n",
        "\n",
        "  def __init__(self, use_timestamp, unique_user_ids=None, bucketised_timestamp=None, timestamp=None):\n",
        "    super().__init__()\n",
        "    self.use_timestamp = use_timestamp\n",
        "    self.user_embeddings = tf.keras.Sequential(\n",
        "        # layer to convert user string data to integer\n",
        "        [tf.keras.layers.StringLookup(vocabulary=unique_user_ids, mask_token=None),\n",
        "         # layer to convert integer values to embeddings, of size (len(unique_user_ids)+1, 32)\n",
        "         tf.keras.layers.Embedding(len(unique_user_ids)+1, 32)])\n",
        "    \n",
        "    if use_timestamp:\n",
        "      self.timestamp_embeddings = tf.keras.Sequential(\n",
        "          [tf.keras.layers.Discretization(bucketised_timestamp),\n",
        "           tf.keras.layers.Embedding(len(bucketised_timestamp)+1, 32)])\n",
        "      self.normalised_timestamp = tf.keras.layers.Normalization(axis=None)\n",
        "\n",
        "      self.normalised_timestamp.adapt(timestamp)\n",
        "    \n",
        "  def call(self, inputs):\n",
        "    if not self.use_timestamp:\n",
        "      return self.user_embeddings(inputs[\"userId\"])\n",
        "    else:\n",
        "      return tf.concat([self.user_embeddings(inputs[\"userId\"]), \n",
        "                       self.timestamp_embeddings(inputs[\"timestamp\"]), \n",
        "                       tf.reshape(self.normalised_timestamp(inputs[\"timestamp\"]),(-1,1))], axis=1)"
      ]
    },
    {
      "cell_type": "markdown",
      "metadata": {
        "id": "ABDeThFPLw2r"
      },
      "source": [
        "Converting timestamp to tensor dataset"
      ]
    },
    {
      "cell_type": "code",
      "execution_count": 14,
      "metadata": {
        "id": "csci8dgTJGsc"
      },
      "outputs": [],
      "source": [
        "test = dict(merge_df[[\"timestamp\"]])\n",
        "test_tf = tf.data.Dataset.from_tensor_slices(test)"
      ]
    },
    {
      "cell_type": "markdown",
      "metadata": {
        "id": "RToTIQgnSXZM"
      },
      "source": [
        "The tensor value\n",
        "```\n",
        "{'timestamp': 964982703}\n",
        "```\n",
        "when a batch of 10 is created the single value is converted into a batch containing 10 values from the rest of the data itself\n",
        "\n",
        "```\n",
        "tf.Tensor(\n",
        "[964982703 964981247 964982224 964983815 964982931 964982400 964980868\n",
        " 964982176 964984041 964984100], shape=(10,), dtype=int64)\n",
        " ```"
      ]
    },
    {
      "cell_type": "code",
      "execution_count": 15,
      "metadata": {
        "id": "RIjRwcWrBOCN"
      },
      "outputs": [],
      "source": [
        "# converts the entire datset to batches of 100 and stores it as a single value in a list\n",
        "timestamps = np.concatenate(list(test_tf.map(lambda x: x[\"timestamp\"]).batch(100)))"
      ]
    },
    {
      "cell_type": "code",
      "execution_count": 16,
      "metadata": {
        "id": "QSM1N68LR1ZV"
      },
      "outputs": [],
      "source": [
        "max_time = timestamps.max()\n",
        "min_time = timestamps.min()"
      ]
    },
    {
      "cell_type": "code",
      "execution_count": 17,
      "metadata": {
        "colab": {
          "base_uri": "https://localhost:8080/"
        },
        "id": "-U1sTOMSTUGa",
        "outputId": "a842ebd7-145a-48a8-904a-65a28f0bc710"
      },
      "outputs": [
        {
          "output_type": "execute_result",
          "data": {
            "text/plain": [
              "(1537799250, 828124615)"
            ]
          },
          "metadata": {},
          "execution_count": 17
        }
      ],
      "source": [
        "max_time, min_time"
      ]
    },
    {
      "cell_type": "code",
      "execution_count": 38,
      "metadata": {
        "id": "UNAF8Qx7TmKy"
      },
      "outputs": [],
      "source": [
        "# Equidistant time points are created so that it helps us to create buckets for the constinuous time given\n",
        "time_bucket = np.linspace(min_time, max_time, num=1000)\n",
        "time_bucket.sort()"
      ]
    },
    {
      "cell_type": "markdown",
      "metadata": {
        "id": "fTf94HTsU0d-"
      },
      "source": [
        "Converting the rating and movie title data to tensors as well. The steps followed for them is as follows:\n",
        "\n",
        "1. Convert movie title data and userid data to equivalent tensors\n",
        "2. Take the unique users and movie titles from the given data "
      ]
    },
    {
      "cell_type": "code",
      "execution_count": 39,
      "metadata": {
        "id": "2RbIcteiUQ-i"
      },
      "outputs": [],
      "source": [
        "movie_title_tf = tf.data.Dataset.from_tensor_slices(dict(merge_df[[\"title\"]]))\n",
        "movie_title_tf_mapped = movie_title_tf.map(lambda x: x[\"title\"])"
      ]
    },
    {
      "cell_type": "code",
      "source": [
        "x = merge_df[[\"title\",\"userId\",\"timestamp\"]]\n",
        "x.info()"
      ],
      "metadata": {
        "colab": {
          "base_uri": "https://localhost:8080/"
        },
        "id": "TN2BDp5yllD_",
        "outputId": "77a7f3b2-154f-4b60-e201-13ffe34de1a4"
      },
      "execution_count": 40,
      "outputs": [
        {
          "output_type": "stream",
          "name": "stdout",
          "text": [
            "<class 'pandas.core.frame.DataFrame'>\n",
            "Int64Index: 100836 entries, 0 to 100835\n",
            "Data columns (total 3 columns):\n",
            " #   Column     Non-Null Count   Dtype \n",
            "---  ------     --------------   ----- \n",
            " 0   title      100836 non-null  object\n",
            " 1   userId     100836 non-null  object\n",
            " 2   timestamp  100836 non-null  int64 \n",
            "dtypes: int64(1), object(2)\n",
            "memory usage: 3.1+ MB\n"
          ]
        }
      ]
    },
    {
      "cell_type": "code",
      "execution_count": 41,
      "metadata": {
        "id": "B5acxsFtZRSf"
      },
      "outputs": [],
      "source": [
        "rating_info_tf = tf.data.Dataset.from_tensor_slices(dict(merge_df[[\"title\",\"userId\",\"timestamp\"]]))"
      ]
    },
    {
      "cell_type": "markdown",
      "metadata": {
        "id": "_LmdYKf3pwQZ"
      },
      "source": [
        "Finding unique movies and users from the entire data"
      ]
    },
    {
      "cell_type": "code",
      "execution_count": 42,
      "metadata": {
        "id": "pk2Z0k0kpKep"
      },
      "outputs": [],
      "source": [
        "# unique_movie_titles = np.unique(np.concatenate(list(movie_title_tf_mapped.batch(1000))))\n",
        "unique_movies = merge_df[\"title\"].unique()"
      ]
    },
    {
      "cell_type": "code",
      "execution_count": 43,
      "metadata": {
        "id": "YRrPlfxXpPZi"
      },
      "outputs": [],
      "source": [
        "# unique_users = np.unique(np.concatenate(list(rating_info_tf.batch(1_000).map(\n",
        "#     lambda x: x[\"userId\"]))))\n",
        "unique_users = merge_df[\"userId\"].unique()"
      ]
    },
    {
      "cell_type": "code",
      "execution_count": 24,
      "metadata": {
        "colab": {
          "base_uri": "https://localhost:8080/"
        },
        "id": "hD8EV40_A1PK",
        "outputId": "e743f11f-f34a-496a-c9c5-1158ebb9c8db"
      },
      "outputs": [
        {
          "output_type": "stream",
          "name": "stdout",
          "text": [
            "tf.Tensor(b'Toy Story (1995)', shape=(), dtype=string)\n",
            "tf.Tensor(b'Grumpier Old Men (1995)', shape=(), dtype=string)\n"
          ]
        }
      ],
      "source": [
        "c = 0\n",
        "for x in movie_title_tf_mapped:\n",
        "  print(x)\n",
        "  c+=1\n",
        "  if c==2:\n",
        "    break"
      ]
    },
    {
      "cell_type": "code",
      "source": [
        "movie_title_tf"
      ],
      "metadata": {
        "colab": {
          "base_uri": "https://localhost:8080/"
        },
        "id": "k4y-n33OcHWd",
        "outputId": "15d3243e-318d-47ce-df92-81f418bc28c9"
      },
      "execution_count": 44,
      "outputs": [
        {
          "output_type": "execute_result",
          "data": {
            "text/plain": [
              "<TensorSliceDataset element_spec={'title': TensorSpec(shape=(), dtype=tf.string, name=None)}>"
            ]
          },
          "metadata": {},
          "execution_count": 44
        }
      ]
    },
    {
      "cell_type": "code",
      "execution_count": 45,
      "metadata": {
        "id": "rn_7qNojzkhL"
      },
      "outputs": [],
      "source": [
        "class MovieModel(tf.keras.Model):\n",
        "  def __init__(self, unique_movies, movies_names_tf):\n",
        "    \"\"\"\n",
        "    unique_movies: (numpy array) - numpy array containing unique names\n",
        "    movies_names_tf: (mapped_tensor) - mapped tensorflow tensor having all the movie names\n",
        "    \"\"\"\n",
        "    super().__init__()\n",
        "    max_tokens = 10_000\n",
        "    self.movie_embedding = tf.keras.Sequential([tf.keras.layers.StringLookup(vocabulary=unique_movies, mask_token=None),\n",
        "                                                tf.keras.layers.Embedding(len(unique_movies)+1, 32)])\n",
        "    self.text_vectorizer = tf.keras.layers.TextVectorization(max_tokens=max_tokens)\n",
        "\n",
        "    self.movie_title_context_embedding = tf.keras.Sequential([\n",
        "                                                self.text_vectorizer,\n",
        "                                                tf.keras.layers.Embedding(max_tokens, 32, mask_zero=True),\n",
        "                                                tf.keras.layers.GlobalAveragePooling1D()\n",
        "                                                ])\n",
        "    self.text_vectorizer.adapt(movies_names_tf)\n",
        "  \n",
        "  def call(self, titles):\n",
        "    return tf.concat([self.movie_embedding(titles),\n",
        "                      self.movie_title_context_embedding(titles)],\n",
        "                     axis=1)"
      ]
    },
    {
      "cell_type": "code",
      "execution_count": 49,
      "metadata": {
        "id": "I1GiJ_P0HSfy"
      },
      "outputs": [],
      "source": [
        "class MovieRecommendModel(tfrs.models.Model):\n",
        "\n",
        "  def __init__(self, user_model, movie_model, movies):\n",
        "    \"\"\"\n",
        "    user_model: Object of the class user model\n",
        "    movie_model: Object of the class movie model\n",
        "    movies: Tensorflow tensor having movie title data\n",
        "    \"\"\"\n",
        "    super().__init__()\n",
        "    self.query_model = tf.keras.Sequential([user_model, tf.keras.layers.Dense(32)])\n",
        "    self.candidate_model = tf.keras.Sequential([movie_model, tf.keras.layers.Dense(32)])\n",
        "    \n",
        "    # Tasks are the metrics defined according to which the recommendation is made\n",
        "    self.retrieval_task = tfrs.tasks.Retrieval(metrics=tfrs.metrics.FactorizedTopK(candidates=movies.batch(128).map(self.candidate_model)))\n",
        "\n",
        "  def call(self, features):\n",
        "    user_embeddings = self.query_model({\n",
        "        \"userId\": features[\"userId\"],\n",
        "        \"timestamp\": features[\"timestamp\"],\n",
        "    })\n",
        "\n",
        "    movie_embeddings = self.candidate_model(features[\"title\"])\n",
        "\n",
        "    return (user_embeddings, movie_embeddings, self.ranking_tasks([user_embeddings, movie_embeddings], axis=1))\n",
        "\n",
        "  def compute_loss(self, features, training=False):\n",
        "    user_embeddings = self.query_model({\n",
        "        \"userId\": features[\"userId\"],\n",
        "        \"timestamp\": features[\"timestamp\"],\n",
        "    })\n",
        "\n",
        "    movie_embeddings = self.candidate_model(features[\"title\"])\n",
        "\n",
        "\n",
        "\n",
        "    return self.retrieval_task(user_embeddings, movie_embeddings)"
      ]
    },
    {
      "cell_type": "code",
      "execution_count": 50,
      "metadata": {
        "id": "wydqMVNnMA2p"
      },
      "outputs": [],
      "source": [
        "tf.random.set_seed(42)\n",
        "shuffled = rating_info_tf.shuffle(100_000, seed=42, reshuffle_each_iteration=False)"
      ]
    },
    {
      "cell_type": "code",
      "execution_count": 51,
      "metadata": {
        "id": "gaD8STxfMl_R"
      },
      "outputs": [],
      "source": [
        "train = shuffled.take(80_000)\n",
        "test = shuffled.skip(80_000).take(20_000)\n",
        "\n",
        "cached_train = train.shuffle(100_000).batch(2048)\n",
        "cached_test = test.batch(4096).cache()"
      ]
    },
    {
      "cell_type": "code",
      "execution_count": 52,
      "metadata": {
        "id": "PAkzKbdZMq4l"
      },
      "outputs": [],
      "source": [
        "user_model_obj = UserModel(use_timestamp=True, unique_user_ids=unique_users, bucketised_timestamp=time_bucket, timestamp=timestamps)\n"
      ]
    },
    {
      "cell_type": "code",
      "execution_count": 33,
      "metadata": {
        "id": "IXAGhTvkOfLO"
      },
      "outputs": [],
      "source": [
        "movie_model_obj = MovieModel(unique_movies=unique_movies, movies_names_tf=movie_title_tf_mapped)"
      ]
    },
    {
      "cell_type": "code",
      "execution_count": 53,
      "metadata": {
        "id": "9Oq4_sh4Ploh"
      },
      "outputs": [],
      "source": [
        "model = MovieRecommendModel(user_model_obj, movie_model_obj, movie_title_tf_mapped)"
      ]
    },
    {
      "cell_type": "code",
      "execution_count": 54,
      "metadata": {
        "id": "rzl8o_6hQosd"
      },
      "outputs": [],
      "source": [
        "model.compile(optimizer=tf.keras.optimizers.Adagrad(learning_rate=0.1))"
      ]
    },
    {
      "cell_type": "code",
      "source": [
        "cached_train"
      ],
      "metadata": {
        "colab": {
          "base_uri": "https://localhost:8080/"
        },
        "id": "PcXSJGzqjbNl",
        "outputId": "2bbc5573-e454-4ff7-ecee-aa8c16bb3347"
      },
      "execution_count": 55,
      "outputs": [
        {
          "output_type": "execute_result",
          "data": {
            "text/plain": [
              "<BatchDataset element_spec={'title': TensorSpec(shape=(None,), dtype=tf.string, name=None), 'userId': TensorSpec(shape=(None,), dtype=tf.string, name=None), 'timestamp': TensorSpec(shape=(None,), dtype=tf.int64, name=None)}>"
            ]
          },
          "metadata": {},
          "execution_count": 55
        }
      ]
    },
    {
      "cell_type": "code",
      "execution_count": 56,
      "metadata": {
        "id": "_uHKwuthSf3n",
        "colab": {
          "base_uri": "https://localhost:8080/"
        },
        "outputId": "f77f4e15-9144-4129-8af8-90894071ae0d"
      },
      "outputs": [
        {
          "output_type": "stream",
          "name": "stderr",
          "text": [
            "WARNING:tensorflow:Layers in a Sequential model should only have a single input tensor. Received: inputs={'userId': <tf.Tensor 'IteratorGetNext:2' shape=(None,) dtype=string>, 'timestamp': <tf.Tensor 'IteratorGetNext:0' shape=(None,) dtype=int64>}. Consider rewriting this model with the Functional API.\n",
            "WARNING:tensorflow:Layers in a Sequential model should only have a single input tensor. Received: inputs={'userId': <tf.Tensor 'IteratorGetNext:2' shape=(None,) dtype=string>, 'timestamp': <tf.Tensor 'IteratorGetNext:0' shape=(None,) dtype=int64>}. Consider rewriting this model with the Functional API.\n"
          ]
        },
        {
          "output_type": "stream",
          "name": "stdout",
          "text": [
            "40/40 [==============================] - 973s 24s/step - factorized_top_k/top_1_categorical_accuracy: 0.0067 - factorized_top_k/top_5_categorical_accuracy: 0.0067 - factorized_top_k/top_10_categorical_accuracy: 0.0068 - factorized_top_k/top_50_categorical_accuracy: 0.0086 - factorized_top_k/top_100_categorical_accuracy: 0.0105 - loss: 14515.4868 - regularization_loss: 0.0000e+00 - total_loss: 14515.4868\n"
          ]
        },
        {
          "output_type": "execute_result",
          "data": {
            "text/plain": [
              "<keras.callbacks.History at 0x7f87bddf3f50>"
            ]
          },
          "metadata": {},
          "execution_count": 56
        }
      ],
      "source": [
        "model.fit(cached_train, epochs=1)"
      ]
    },
    {
      "cell_type": "code",
      "execution_count": 46,
      "metadata": {
        "colab": {
          "base_uri": "https://localhost:8080/"
        },
        "id": "lHwSqxwUSigb",
        "outputId": "e2ccec33-bfb1-4a24-ec98-6117f6faa4a7"
      },
      "outputs": [
        {
          "name": "stdout",
          "output_type": "stream",
          "text": [
            "> <ipython-input-23-485ac8022669>(18)compute_loss()\n",
            "-> user_embeddings = self.query_model({\n",
            "(Pdb) c\n"
          ]
        },
        {
          "output_type": "stream",
          "name": "stderr",
          "text": [
            "WARNING:tensorflow:Layers in a Sequential model should only have a single input tensor. Received: inputs={'userId': <tf.Tensor 'IteratorGetNext:2' shape=(None,) dtype=string>, 'timestamp': <tf.Tensor 'IteratorGetNext:0' shape=(None,) dtype=int64>}. Consider rewriting this model with the Functional API.\n"
          ]
        },
        {
          "output_type": "stream",
          "name": "stdout",
          "text": [
            "5/5 [==============================] - 243s 47s/step - factorized_top_k/top_1_categorical_accuracy: 6.0000e-04 - factorized_top_k/top_5_categorical_accuracy: 8.5000e-04 - factorized_top_k/top_10_categorical_accuracy: 9.5000e-04 - factorized_top_k/top_50_categorical_accuracy: 0.0029 - factorized_top_k/top_100_categorical_accuracy: 0.0049 - loss: 31084.0140 - regularization_loss: 0.0000e+00 - total_loss: 31084.0140\n"
          ]
        },
        {
          "output_type": "execute_result",
          "data": {
            "text/plain": [
              "{'factorized_top_k/top_1_categorical_accuracy': 0.0006000000284984708,\n",
              " 'factorized_top_k/top_5_categorical_accuracy': 0.0008500000112690032,\n",
              " 'factorized_top_k/top_10_categorical_accuracy': 0.0009500000160187483,\n",
              " 'factorized_top_k/top_50_categorical_accuracy': 0.002850000048056245,\n",
              " 'factorized_top_k/top_100_categorical_accuracy': 0.00494999997317791,\n",
              " 'loss': 28231.33203125,\n",
              " 'regularization_loss': 0,\n",
              " 'total_loss': 28231.33203125}"
            ]
          },
          "metadata": {},
          "execution_count": 46
        }
      ],
      "source": [
        "model.evaluate(cached_test, return_dict=True)"
      ]
    },
    {
      "cell_type": "code",
      "execution_count": 47,
      "metadata": {
        "id": "NwXU-XvGS5Y_",
        "colab": {
          "base_uri": "https://localhost:8080/"
        },
        "outputId": "413aa921-bc8b-4371-e877-169de8664966"
      },
      "outputs": [
        {
          "output_type": "stream",
          "name": "stdout",
          "text": [
            "40/40 [==============================] - 974s 24s/step - factorized_top_k/top_1_categorical_accuracy: 0.0010 - factorized_top_k/top_5_categorical_accuracy: 0.0015 - factorized_top_k/top_10_categorical_accuracy: 0.0019 - factorized_top_k/top_50_categorical_accuracy: 0.0047 - factorized_top_k/top_100_categorical_accuracy: 0.0087 - loss: 13904.5460 - regularization_loss: 0.0000e+00 - total_loss: 13904.5460\n",
            "5/5 [==============================] - 244s 49s/step - factorized_top_k/top_1_categorical_accuracy: 6.0000e-04 - factorized_top_k/top_5_categorical_accuracy: 8.5000e-04 - factorized_top_k/top_10_categorical_accuracy: 9.5000e-04 - factorized_top_k/top_50_categorical_accuracy: 0.0029 - factorized_top_k/top_100_categorical_accuracy: 0.0049 - loss: 31084.0140 - regularization_loss: 0.0000e+00 - total_loss: 31084.0140\n"
          ]
        }
      ],
      "source": [
        "train_accuracy = model.evaluate(\n",
        "    cached_train, return_dict=True)[\"factorized_top_k/top_100_categorical_accuracy\"]\n",
        "test_accuracy = model.evaluate(\n",
        "    cached_test, return_dict=True)[\"factorized_top_k/top_100_categorical_accuracy\"]"
      ]
    },
    {
      "cell_type": "code",
      "source": [
        "index = tfrs.layers.factorized_top_k.BruteForce(model.query_model)\n",
        "index.index_from_dataset(tf.data.Dataset.zip((movie_title_tf_mapped.batch(100), movie_title_tf_mapped.batch(100).map(model.candidate_model))))"
      ],
      "metadata": {
        "colab": {
          "base_uri": "https://localhost:8080/"
        },
        "id": "SFA7naxWg_LQ",
        "outputId": "de7a4818-2636-4e79-e05e-f0c94197798b"
      },
      "execution_count": 57,
      "outputs": [
        {
          "output_type": "execute_result",
          "data": {
            "text/plain": [
              "<tensorflow_recommenders.layers.factorized_top_k.BruteForce at 0x7f87bbd07350>"
            ]
          },
          "metadata": {},
          "execution_count": 57
        }
      ]
    },
    {
      "cell_type": "code",
      "source": [
        "_, titles = index({\"userId\":tf.constant([\"221\"]),\n",
        "                   \"timestamp\":tf.constant([1981])})\n",
        "print(f\"Recommendations for user 112: {titles[0, :100]}\")"
      ],
      "metadata": {
        "colab": {
          "base_uri": "https://localhost:8080/"
        },
        "id": "eN_3MOIwnfB_",
        "outputId": "78c525c9-39cb-44e1-fef8-4a53b833394b"
      },
      "execution_count": 65,
      "outputs": [
        {
          "output_type": "stream",
          "name": "stderr",
          "text": [
            "WARNING:tensorflow:Layers in a Sequential model should only have a single input tensor. Received: inputs={'userId': <tf.Tensor: shape=(1,), dtype=string, numpy=array([b'221'], dtype=object)>, 'timestamp': <tf.Tensor: shape=(1,), dtype=int32, numpy=array([1981], dtype=int32)>}. Consider rewriting this model with the Functional API.\n"
          ]
        },
        {
          "output_type": "stream",
          "name": "stdout",
          "text": [
            "Recommendations for user 112: [b'Bogus (1996)' b'Bogus (1996)' b'Foxfire (1996)' b'Foxfire (1996)'\n",
            " b'Foxfire (1996)' b'Bed of Roses (1996)' b'Bed of Roses (1996)'\n",
            " b'Bed of Roses (1996)' b'Bed of Roses (1996)' b'Bed of Roses (1996)']\n"
          ]
        }
      ]
    },
    {
      "cell_type": "code",
      "source": [],
      "metadata": {
        "id": "lTXEdrG6n4Rf"
      },
      "execution_count": null,
      "outputs": []
    }
  ],
  "metadata": {
    "colab": {
      "provenance": []
    },
    "kernelspec": {
      "display_name": "Python 3",
      "name": "python3"
    },
    "language_info": {
      "name": "python"
    }
  },
  "nbformat": 4,
  "nbformat_minor": 0
}